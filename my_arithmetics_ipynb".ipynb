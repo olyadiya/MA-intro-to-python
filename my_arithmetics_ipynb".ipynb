{
  "cells": [
    {
      "cell_type": "markdown",
      "metadata": {
        "id": "view-in-github",
        "colab_type": "text"
      },
      "source": [
        "<a href=\"https://colab.research.google.com/github/olyadiya/MA-intro-to-python/blob/main/my_arithmetics_ipynb%22.ipynb\" target=\"_parent\"><img src=\"https://colab.research.google.com/assets/colab-badge.svg\" alt=\"Open In Colab\"/></a>"
      ]
    },
    {
      "cell_type": "markdown",
      "metadata": {
        "id": "LKJXB1rGMi22"
      },
      "source": [
        "(c) В.И. Фирсанова | 2025"
      ]
    },
    {
      "cell_type": "markdown",
      "metadata": {
        "id": "fQaRb4FdiZXL"
      },
      "source": [
        "# Арифметические операции в Python\n",
        "\n",
        "1. **Сложение (+)**:\n",
        "   - `3 + 5` возвращает `8`\n",
        "\n",
        "2. **Вычитание (-)**:\n",
        "   - `10 - 4` возвращает `6`\n",
        "\n",
        "3. **Умножение (*)**:\n",
        "   - `2 * 6` возвращает `12`\n",
        "\n",
        "4. **Деление (/)**:\n",
        "   - `15 / 3` возвращает `5.0` (число с плавающей точкой)\n",
        "\n",
        "5. **Целочисленное деление (//)**:\n",
        "   - `15 // 4` возвращает `3` (целое число)\n",
        "\n",
        "6. **Остаток от деления (%)**:\n",
        "   - `15 % 4` возвращает `3`\n",
        "\n",
        "7. **Возведение в степень (**** **либо (pow())**:\n",
        "   - `2 ** 3` или `pow(2, 3)` возвращает `8`\n",
        "\n",
        "8. **Модуль (abs())**:\n",
        "   - `abs(-10)` возвращает `10`\n",
        "\n",
        "10. **Округление (round())**:\n",
        "    - `round(4.6)` возвращает `5`\n",
        "    - `round(4.65, 1)` возвращает `4.7` (1 знак после запятой)\n",
        "\n",
        "**Порядок арифметических операций в Python:**\n",
        "\n",
        "1. Скобки\n",
        "2. Возведение в степень, корень числа\n",
        "3. Умножение и деление слева-направо\n",
        "4. Сложение и вычитание слева-направо"
      ]
    },
    {
      "cell_type": "code",
      "execution_count": null,
      "metadata": {
        "id": "l6Dwn2cDj_N9",
        "colab": {
          "base_uri": "https://localhost:8080/"
        },
        "outputId": "2cff7b29-7bd7-4d1d-9eda-71ab5839050b"
      },
      "outputs": [
        {
          "output_type": "stream",
          "name": "stdout",
          "text": [
            "30\n"
          ]
        }
      ],
      "source": [
        "num1 = 10\n",
        "num2 = 20\n",
        "\n",
        "# Напишите код для сложения 2-х чисел\n",
        "\n",
        "result = num1+num2\n",
        "\n",
        "print(result)"
      ]
    },
    {
      "cell_type": "code",
      "execution_count": null,
      "metadata": {
        "id": "0eRzO5hMkdIc"
      },
      "outputs": [],
      "source": [
        "num1 = 10\n",
        "num2 = 20\n",
        "\n",
        "# Напишите код для вычитания 2-х чисел\n",
        "\n",
        "result = num2-num1\n",
        "\n",
        "print(result)"
      ]
    },
    {
      "cell_type": "code",
      "execution_count": null,
      "metadata": {
        "id": "ZyueEtLqkinp"
      },
      "outputs": [],
      "source": [
        "num1 = 10\n",
        "num2 = 20\n",
        "\n",
        "# Напишите код для умножения 2-х чисел\n",
        "\n",
        "result = num1*num2\n",
        "\n",
        "print(result)"
      ]
    },
    {
      "cell_type": "code",
      "execution_count": null,
      "metadata": {
        "id": "6s-US4aVkj93"
      },
      "outputs": [],
      "source": [
        "num1 = 10\n",
        "num2 = 20\n",
        "\n",
        "# Напишите код для деления 2-х чисел\n",
        "\n",
        "result = num2/num1\n",
        "\n",
        "print(result)"
      ]
    },
    {
      "cell_type": "code",
      "execution_count": null,
      "metadata": {
        "id": "53S7Bayskqiv",
        "colab": {
          "base_uri": "https://localhost:8080/"
        },
        "outputId": "079d9b58-7791-4170-b1ed-45b9e956d900"
      },
      "outputs": [
        {
          "output_type": "stream",
          "name": "stdout",
          "text": [
            "Hello, World!\n"
          ]
        }
      ],
      "source": [
        "str1 = \"Hello, \"\n",
        "str2 = \"World!\"\n",
        "\n",
        "# Напишите код для сложения 2-х строк, что получилось?\n",
        "\n",
        "result = str1+str2 #получается хеллоу ворлд, как я понимаю str вводит новый тип данных, поэтому мы их можем так складывать\n",
        "\n",
        "print(result)"
      ]
    },
    {
      "cell_type": "code",
      "execution_count": null,
      "metadata": {
        "id": "IWmTrByfk0Ok",
        "colab": {
          "base_uri": "https://localhost:8080/",
          "height": 207
        },
        "outputId": "093d7fb0-d193-4815-80f1-ac087db11834"
      },
      "outputs": [
        {
          "output_type": "error",
          "ename": "TypeError",
          "evalue": "can only concatenate str (not \"int\") to str",
          "traceback": [
            "\u001b[0;31m---------------------------------------------------------------------------\u001b[0m",
            "\u001b[0;31mTypeError\u001b[0m                                 Traceback (most recent call last)",
            "\u001b[0;32m/tmp/ipython-input-4109001953.py\u001b[0m in \u001b[0;36m<cell line: 0>\u001b[0;34m()\u001b[0m\n\u001b[1;32m      4\u001b[0m \u001b[0;31m# Напишите код для сложения строки и числа, чем это все закончилось?\u001b[0m\u001b[0;34m\u001b[0m\u001b[0;34m\u001b[0m\u001b[0m\n\u001b[1;32m      5\u001b[0m \u001b[0;34m\u001b[0m\u001b[0m\n\u001b[0;32m----> 6\u001b[0;31m \u001b[0mresult\u001b[0m \u001b[0;34m=\u001b[0m \u001b[0mstr1\u001b[0m\u001b[0;34m+\u001b[0m\u001b[0mnum1\u001b[0m\u001b[0;34m\u001b[0m\u001b[0;34m\u001b[0m\u001b[0m\n\u001b[0m\u001b[1;32m      7\u001b[0m \u001b[0;34m\u001b[0m\u001b[0m\n\u001b[1;32m      8\u001b[0m \u001b[0mprint\u001b[0m\u001b[0;34m(\u001b[0m\u001b[0mresult\u001b[0m\u001b[0;34m)\u001b[0m\u001b[0;34m\u001b[0m\u001b[0;34m\u001b[0m\u001b[0m\n",
            "\u001b[0;31mTypeError\u001b[0m: can only concatenate str (not \"int\") to str"
          ]
        }
      ],
      "source": [
        "str1 = \"Hello, \"\n",
        "num1 = 10\n",
        "\n",
        "# Напишите код для сложения строки и числа, чем это все закончилось?\n",
        "\n",
        "result = str1+num1 #выдает ошибку так как мы не можем складывать разные типы данных\n",
        "\n",
        "print(result)"
      ]
    },
    {
      "cell_type": "code",
      "execution_count": null,
      "metadata": {
        "id": "MTUyA3jUlJBL",
        "colab": {
          "base_uri": "https://localhost:8080/"
        },
        "outputId": "c4379e6b-ca02-4967-8ec9-8978f79dd0e1"
      },
      "outputs": [
        {
          "output_type": "stream",
          "name": "stdout",
          "text": [
            "Hello, 10\n"
          ]
        }
      ],
      "source": [
        "str1 = \"Hello, \"\n",
        "num1 = \"10\"\n",
        "\n",
        "# Напишите код для сложения строки и числа еще раз, что получилось?\n",
        "\n",
        "result = str1+num1 #можем сложить так как при помощи кавычек обе переменных становятся одинаковыми типами данных\n",
        "\n",
        "print(result)"
      ]
    },
    {
      "cell_type": "markdown",
      "metadata": {
        "id": "pQk4nII6lYHC"
      },
      "source": [
        "Сложение двух строк называется **конкатенацией**. В Python можно конкатенировать только 2 одинаковых типа данных, например, числа и числа, строки и строки, матрицы и матрицы и т.д."
      ]
    },
    {
      "cell_type": "code",
      "execution_count": null,
      "metadata": {
        "id": "xbPvx4Dslnhp",
        "colab": {
          "base_uri": "https://localhost:8080/"
        },
        "outputId": "dd0c0bc8-d7a5-4d6a-8e96-392935496fb6"
      },
      "outputs": [
        {
          "output_type": "stream",
          "name": "stdout",
          "text": [
            "30\n"
          ]
        }
      ],
      "source": [
        "num1 = 10\n",
        "num2 = 20\n",
        "\n",
        "# Выведите на экран результат сложения 2-х чисел\n",
        "\n",
        "num1 += num2\n",
        "print(num1)\n",
        "\n"
      ]
    },
    {
      "cell_type": "markdown",
      "metadata": {
        "id": "EQdzTKaMlvyB"
      },
      "source": [
        "Операторы `+=`, `-=`, `*=`, `/=` изменяют значение текущей переменной путем сложения, вычитания, умножения и т.д. другой переменной. Они делают код **питоничным**, ускоряя как скорость написания кода, так и скорость его выполнения.\n",
        "\n",
        "Почему ускоряется скорость выполнения кода?\n",
        "\n",
        "Сценарий 1\n",
        "\n",
        "```\n",
        "a = 1 # занимаем ячейку памяти компьютера и даем ей идентификатор a\n",
        "b = 1 # занимаем ячейку памяти компьютера и даем ей идентификатор b\n",
        "\n",
        "c = a + b # занимаем ячейку памяти компьютера и даем ей идентификатор c\n",
        "```\n",
        "Сценарий 2\n",
        "```\n",
        "a = 1 # занимаем ячейку памяти компьютера и даем ей идентификатор a\n",
        "b = 1 # занимаем ячейку памяти компьютера и даем ей идентификатор b\n",
        "\n",
        "a += b # обновляем информацию в ячейке a\n",
        "```\n",
        "\n",
        "Результат тот же, но мы не заполняем место в памяти компьютера ячейкой `c`.\n",
        "А теперь представь, что мы работаем с большими данными. Как много памяти мы сохраним и насколько быстрее будет работать такой код!\n",
        "\n",
        "Так что питоничность - это то, к чему мы стремимся, как питонисты :)"
      ]
    },
    {
      "cell_type": "code",
      "execution_count": null,
      "metadata": {
        "id": "C32ozj4SnYH1",
        "colab": {
          "base_uri": "https://localhost:8080/"
        },
        "outputId": "6effd19d-c6b3-4d16-8210-68588c338b8c"
      },
      "outputs": [
        {
          "output_type": "stream",
          "name": "stdout",
          "text": [
            "10\n"
          ]
        }
      ],
      "source": [
        "num1 = 10\n",
        "num2 = 20\n",
        "\n",
        "# Выведите на экран результат вычитания 2-х чисел с помощью оператора -=\n",
        "\n",
        "num2-=num1\n",
        "print(num2)\n"
      ]
    },
    {
      "cell_type": "code",
      "execution_count": null,
      "metadata": {
        "id": "yF5z2RYgnh0O",
        "colab": {
          "base_uri": "https://localhost:8080/"
        },
        "outputId": "0a078c77-e7d1-447a-af89-57b16fe7a37c"
      },
      "outputs": [
        {
          "output_type": "stream",
          "name": "stdout",
          "text": [
            "200\n"
          ]
        }
      ],
      "source": [
        "num1 = 10\n",
        "num2 = 20\n",
        "\n",
        "# Выведите на экран результат умножения 2-х чисел с помощью оператора *=\n",
        "\n",
        "num1*=num2\n",
        "print(num1)\n"
      ]
    },
    {
      "cell_type": "code",
      "execution_count": null,
      "metadata": {
        "id": "i0nBdi3ankz0",
        "colab": {
          "base_uri": "https://localhost:8080/"
        },
        "outputId": "92120705-0a50-407b-8302-c167bf2767d9"
      },
      "outputs": [
        {
          "output_type": "stream",
          "name": "stdout",
          "text": [
            "2.0\n"
          ]
        }
      ],
      "source": [
        "num1 = 10\n",
        "num2 = 20\n",
        "\n",
        "# Выведите на экран результат деления 2-х чисел с помощью оператора /=\n",
        "\n",
        "num2/=num1\n",
        "print(num2)\n"
      ]
    },
    {
      "cell_type": "markdown",
      "metadata": {
        "id": "f31cd5a8"
      },
      "source": [
        "\n",
        "## Теория: имена переменных и операции в Python\n",
        "\n",
        "### Имена переменных\n",
        "- Имя переменной должно быть **понятным и описательным**. Например, `age`, `user_name`, а не `a`, `xyz`.\n",
        "- Используйте **snake_case**, а не **camelCase**: слова разделяются символом подчёркивания (`max_value`, `user_input`).\n",
        "- Имя переменной **не может начинаться с цифры** и содержать пробелы.\n",
        "  > Python не считает `0variable`, но считает `variable0`. Это связано с тем, что то, что начинается с цифры, начинает интерпретироваться нашей системой как число. Не будем путать процессор :)\n",
        "- **Зарезервированные слова** (например, `for`, `if`, `class`) нельзя использовать в качестве имён.\n",
        "  > Что это за \"резерв\" такой? Сюда попадают названия, которые участвуют в работе языка Python: `for` запускает цикл, `class` объявляет класс и т.д. Использование таких слов в качестве переменных создаст *неоднозначность* в работе программы. Проще говоря, питон запутается!\n",
        "\n",
        "Плохой нейминг:\n",
        "```python\n",
        "a = 10\n",
        "b = \"hello\"\n",
        "```\n",
        "\n",
        "Хороший нейминг:\n",
        "```python\n",
        "user_age = 10\n",
        "greeting = \"hello\"\n",
        "```\n"
      ]
    },
    {
      "cell_type": "markdown",
      "source": [
        "**Практика** перед новым занятием"
      ],
      "metadata": {
        "id": "iI6yYKuwHTdc"
      }
    },
    {
      "cell_type": "code",
      "execution_count": null,
      "metadata": {
        "id": "44c1f87e",
        "colab": {
          "base_uri": "https://localhost:8080/"
        },
        "outputId": "5bfd9959-d57b-446c-a141-26bbd26fee7d"
      },
      "outputs": [
        {
          "output_type": "stream",
          "name": "stdout",
          "text": [
            "Введи свой возраст: 22\n",
            "Переменная создана правильно.\n"
          ]
        }
      ],
      "source": [
        "# 1: создай переменную с именем user_age и сохрани в ней число, введённое с клавиатуры\n",
        "user_age = int(input(\"Введи свой возраст: \"))\n",
        "\n",
        "# Проверка\n",
        "assert isinstance(user_age, int)\n",
        "print(\"Переменная создана правильно.\")"
      ]
    },
    {
      "cell_type": "code",
      "source": [
        "# Теперь введи сюда имя пользователя\n",
        "user_age = int(input(\"Введи свой возраст: \"))\n",
        "\n",
        "# Проверка\n",
        "assert isinstance(user_age, int)"
      ],
      "metadata": {
        "id": "R_KvKPZtHika",
        "colab": {
          "base_uri": "https://localhost:8080/",
          "height": 224
        },
        "outputId": "df2097c6-381e-4b24-eaf3-4ca8da106d81"
      },
      "execution_count": null,
      "outputs": [
        {
          "name": "stdout",
          "output_type": "stream",
          "text": [
            "Введи свой возраст: Оля\n"
          ]
        },
        {
          "output_type": "error",
          "ename": "ValueError",
          "evalue": "invalid literal for int() with base 10: 'Оля'",
          "traceback": [
            "\u001b[0;31m---------------------------------------------------------------------------\u001b[0m",
            "\u001b[0;31mValueError\u001b[0m                                Traceback (most recent call last)",
            "\u001b[0;32m/tmp/ipython-input-2180308627.py\u001b[0m in \u001b[0;36m<cell line: 0>\u001b[0;34m()\u001b[0m\n\u001b[1;32m      1\u001b[0m \u001b[0;31m# Теперь введи сюда имя пользователя\u001b[0m\u001b[0;34m\u001b[0m\u001b[0;34m\u001b[0m\u001b[0m\n\u001b[0;32m----> 2\u001b[0;31m \u001b[0muser_age\u001b[0m \u001b[0;34m=\u001b[0m \u001b[0mint\u001b[0m\u001b[0;34m(\u001b[0m\u001b[0minput\u001b[0m\u001b[0;34m(\u001b[0m\u001b[0;34m\"Введи свой возраст: \"\u001b[0m\u001b[0;34m)\u001b[0m\u001b[0;34m)\u001b[0m\u001b[0;34m\u001b[0m\u001b[0;34m\u001b[0m\u001b[0m\n\u001b[0m\u001b[1;32m      3\u001b[0m \u001b[0;34m\u001b[0m\u001b[0m\n\u001b[1;32m      4\u001b[0m \u001b[0;31m# Проверка\u001b[0m\u001b[0;34m\u001b[0m\u001b[0;34m\u001b[0m\u001b[0m\n\u001b[1;32m      5\u001b[0m \u001b[0;32massert\u001b[0m \u001b[0misinstance\u001b[0m\u001b[0;34m(\u001b[0m\u001b[0muser_age\u001b[0m\u001b[0;34m,\u001b[0m \u001b[0mint\u001b[0m\u001b[0;34m)\u001b[0m\u001b[0;34m\u001b[0m\u001b[0;34m\u001b[0m\u001b[0m\n",
            "\u001b[0;31mValueError\u001b[0m: invalid literal for int() with base 10: 'Оля'"
          ]
        }
      ]
    },
    {
      "cell_type": "markdown",
      "source": [
        "Какой из элементов кода вызвал ошибку? Ответ (для ответа можно использовать внешние источники):\n",
        "второй код вызывает ошибку, так как функция int задает параметр на ввод чисел, при этом я ввожу другой тип данных"
      ],
      "metadata": {
        "id": "SiWR5PNMHwAf"
      }
    },
    {
      "cell_type": "markdown",
      "source": [
        "**Задания на закрепление материала**"
      ],
      "metadata": {
        "id": "H3EbQGPkItjR"
      }
    },
    {
      "cell_type": "markdown",
      "source": [
        "1. Создай переменную x = 10 и приьавт к ней 5 с помощью сокращённого (комбинированного) оператора"
      ],
      "metadata": {
        "id": "NwmxhHBEIx9L"
      }
    },
    {
      "cell_type": "code",
      "source": [
        "x=10\n",
        "y=5\n",
        "x+=y\n",
        "print(x)"
      ],
      "metadata": {
        "id": "SgV8q_5OHd_E",
        "colab": {
          "base_uri": "https://localhost:8080/"
        },
        "outputId": "ab5f9d9d-8fb5-42e9-fe83-77aa81f3fba1"
      },
      "execution_count": null,
      "outputs": [
        {
          "output_type": "stream",
          "name": "stdout",
          "text": [
            "15\n"
          ]
        }
      ]
    },
    {
      "cell_type": "markdown",
      "source": [
        "2. Написать код, чтобы преобразовать температуру в градусах по Цельсию к виду значений температуры в градусах по Фаренгейту. Использовать `int(input())` для ввода значения температур"
      ],
      "metadata": {
        "id": "dd2gF9NwJA-v"
      }
    },
    {
      "cell_type": "code",
      "source": [
        "celcius = int(input(\"Напиши температуру по Цельсию\"))\n",
        "farenheit = (celcius*9/5+32)\n",
        "print(farenheit)\n"
      ],
      "metadata": {
        "id": "Kt3veehuJzJ5",
        "colab": {
          "base_uri": "https://localhost:8080/"
        },
        "outputId": "fe97912d-937a-4460-b545-3e959815880a"
      },
      "execution_count": 1,
      "outputs": [
        {
          "output_type": "stream",
          "name": "stdout",
          "text": [
            "Напиши температуру по Цельсию0\n",
            "32.0\n"
          ]
        }
      ]
    },
    {
      "cell_type": "markdown",
      "source": [
        "3. Написать код, чтобы переводить минуты в часы и считать остаток минут. Использовать `int(input())` для ввода количества минут"
      ],
      "metadata": {
        "id": "vX8Tl1zJJ6Gx"
      }
    },
    {
      "cell_type": "code",
      "source": [
        "minutes = int(input(\"Напиши количество минут\"))\n",
        "minutes_left = minutes % 60\n",
        "print(minutes_left)"
      ],
      "metadata": {
        "id": "lBhk8No8KFRH",
        "colab": {
          "base_uri": "https://localhost:8080/"
        },
        "outputId": "c758053e-0f34-4412-eecd-3cdaca12d7c4"
      },
      "execution_count": 7,
      "outputs": [
        {
          "output_type": "stream",
          "name": "stdout",
          "text": [
            "Напиши количество минут700\n",
            "40\n"
          ]
        }
      ]
    },
    {
      "cell_type": "markdown",
      "source": [
        "4. Ячейка кода ниже должна принимать 2 числа и считать их сумму, разность, произведение и частное"
      ],
      "metadata": {
        "id": "CjEzHXxYKFpF"
      }
    },
    {
      "cell_type": "code",
      "source": [
        "num1 = int(input(\"напиши число один\"))\n",
        "num2 = int(input(\"напиши число два\"))\n",
        "a=(num1+num2)\n",
        "b=(num1-num2)\n",
        "c=(num1*num2)\n",
        "d=(num1/num2)\n",
        "print(a,b,c,d)"
      ],
      "metadata": {
        "id": "NZ2kppmuKPvJ",
        "colab": {
          "base_uri": "https://localhost:8080/"
        },
        "outputId": "19adb350-97a2-4427-a650-ed36c8969a19"
      },
      "execution_count": 2,
      "outputs": [
        {
          "output_type": "stream",
          "name": "stdout",
          "text": [
            "напиши число один4\n",
            "напиши число два2\n",
            "6 2 8 2.0\n"
          ]
        }
      ]
    },
    {
      "cell_type": "markdown",
      "source": [
        "5. Сколько будет 15% от 200?"
      ],
      "metadata": {
        "id": "14V2rbizKQMH"
      }
    },
    {
      "cell_type": "code",
      "source": [
        "a = 200\n",
        "a*=0.15\n",
        "print(a)"
      ],
      "metadata": {
        "id": "s3S7cjRGKa3w",
        "colab": {
          "base_uri": "https://localhost:8080/"
        },
        "outputId": "24503f39-14ee-4017-ca43-f5aa513c50ec"
      },
      "execution_count": 1,
      "outputs": [
        {
          "output_type": "stream",
          "name": "stdout",
          "text": [
            "30.0\n"
          ]
        }
      ]
    }
  ],
  "metadata": {
    "colab": {
      "provenance": [],
      "include_colab_link": true
    },
    "kernelspec": {
      "display_name": "Python 3",
      "name": "python3"
    },
    "language_info": {
      "name": "python"
    }
  },
  "nbformat": 4,
  "nbformat_minor": 0
}