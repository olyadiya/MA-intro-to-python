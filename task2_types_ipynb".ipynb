{
  "nbformat": 4,
  "nbformat_minor": 0,
  "metadata": {
    "colab": {
      "provenance": [],
      "include_colab_link": true
    },
    "kernelspec": {
      "name": "python3",
      "display_name": "Python 3"
    },
    "language_info": {
      "name": "python"
    }
  },
  "cells": [
    {
      "cell_type": "markdown",
      "metadata": {
        "id": "view-in-github",
        "colab_type": "text"
      },
      "source": [
        "<a href=\"https://colab.research.google.com/github/olyadiya/MA-intro-to-python/blob/main/task2_types_ipynb%22.ipynb\" target=\"_parent\"><img src=\"https://colab.research.google.com/assets/colab-badge.svg\" alt=\"Open In Colab\"/></a>"
      ]
    },
    {
      "cell_type": "markdown",
      "source": [
        "(c) В.И. Фирсанова | 2024"
      ],
      "metadata": {
        "id": "LKJXB1rGMi22"
      }
    },
    {
      "cell_type": "markdown",
      "source": [
        "# Типы данных в Python\n",
        "\n",
        "1. **Числовые типы**:\n",
        "   - `int` integer, целое число `7`\n",
        "   - `float` число с плавающей точкой (десятичная дробь) `7.1`\n",
        "\n",
        "2. **Булевы перменные**:\n",
        "   - `Bool` Boolean, принимает значения `True` или `False`\n",
        "\n",
        "3. **Наборы, последовательности**:\n",
        "   - `str` string, строка `\"hello\"`\n",
        "   - `list`, список `[1, 7.1, \"hello\"]`, изменяемая последовательность\n",
        "    - *вложенный список* состоит из множества списков `[[0, 1, 2], [3, 4]]`\n",
        "   - `tuple`, кортеж `(1, 7.1, \"hello), неизменяемая последовательность\n",
        "    - в кортежах нельзя удалять, добавлять данные; они занимают меньше памяти\n",
        "   - `dict`, dictionary, словарь `{\"number\": 1, \"word\": \"hello\"}`, пары ключей и значений (key-query)\n",
        "    - в этом примере ключами будут `\"number\"` и `\"word\"`, а значениями - `1` и `\"hello\"`\n",
        "  - `set`, множество, неупорядоченный набор уникальных элементов `{1, 2, 3}`\n",
        "  - `frozenset`, неизменяемое множество (аналог кортежа по отношению к спискам)\n",
        "\n",
        "4. **None**:\n",
        "   - `None` можно использовать для создания пустого элемента, как плейсхолдер в функции, для проверки факта наличия объекта в переменной и т.д."
      ],
      "metadata": {
        "id": "fQaRb4FdiZXL"
      }
    },
    {
      "cell_type": "markdown",
      "source": [
        "Задачи\n",
        "\n",
        "1. Угадай число"
      ],
      "metadata": {
        "id": "M_S_1NbvB2ak"
      }
    },
    {
      "cell_type": "code",
      "source": [
        "import random # библиотека для генерации случайных чисел\n",
        "\n",
        "# генерируем случайное целое число (random integer) от 0 до 10\n",
        "# функция randint принимает два аргумента: диапазон генерации\n",
        "magic_number = random.randint(0, 10)\n",
        "\n",
        "# запросите у пользователя ввод числа\n",
        "user_number = int(input(\"Напишите число \"))\n",
        "\n",
        "if user_number == magic_number: # проверка на совпадение значений\n",
        "  print('Поздравляю, вы угадали!')\n",
        "else:\n",
        "  print('А вот и нет! Это число', magic_number)"
      ],
      "metadata": {
        "id": "l6Dwn2cDj_N9",
        "colab": {
          "base_uri": "https://localhost:8080/"
        },
        "outputId": "c3af4de7-1fe1-457d-8c7b-4e38d138cd26"
      },
      "execution_count": 1,
      "outputs": [
        {
          "output_type": "stream",
          "name": "stdout",
          "text": [
            "Напишите число 4\n",
            "А вот и нет! Это число 10\n"
          ]
        }
      ]
    },
    {
      "cell_type": "markdown",
      "source": [
        "Обратите внимание на строку `print('А вот и нет! Это число', magic_number)`\n",
        "\n",
        "`print` может принимать несколько аргументов через запятую и выводить на экран их все!\n",
        "\n",
        "Используйте это в следующем задании.\n",
        "\n",
        "2. Приветствие"
      ],
      "metadata": {
        "id": "HU_ZGIkeAZfI"
      }
    },
    {
      "cell_type": "code",
      "source": [
        "# запросите у пользователя его имя\n",
        "# вспомните, чем input(int()) отличается от input()\n",
        "your_name = input(\"Напиши свое имя \") #input(int()) из-за int обращает только в числовой тип данны\n",
        "print(\"Привет, \", your_name)"
      ],
      "metadata": {
        "colab": {
          "base_uri": "https://localhost:8080/"
        },
        "outputId": "0d62ea11-4b0f-4f74-dc46-8bdc8d4cc8d8",
        "id": "y-PGiG7G_7lC"
      },
      "execution_count": 2,
      "outputs": [
        {
          "output_type": "stream",
          "name": "stdout",
          "text": [
            "Напиши свое имяОля\n",
            "Привет,  Оля\n"
          ]
        }
      ]
    },
    {
      "cell_type": "markdown",
      "source": [
        "3. Конвертер температур"
      ],
      "metadata": {
        "id": "A_FhYEiWCAVW"
      }
    },
    {
      "cell_type": "code",
      "source": [
        "# запросите у пользователя температуру в градусах Цельсия:\n",
        "# это должно быть дробное числом (float)\n",
        "### ваш код здесь ###\n",
        "\n",
        "# конвертируйте температуру из градусов Цельсия в градусы Фаренгейта:\n",
        "# вспомните или найдите формулу и используйте арифметические операции python для расчетов\n",
        "### ваш код здесь ###\n",
        "\n",
        "# выведите результат на экран:\n",
        "# используйте любые текстовые формулировки, чтобы показать число,\n",
        "# которое вы получили от пользователя, и результат расчетов\n",
        "celcius = float(input(\"Напиши температуру по Цельсию \"))\n",
        "farenheit = (celcius*9/5+32)\n",
        "print(farenheit)"
      ],
      "metadata": {
        "id": "0eRzO5hMkdIc",
        "colab": {
          "base_uri": "https://localhost:8080/"
        },
        "outputId": "9d8da0b1-911a-41fe-c6b7-66f720ec660c"
      },
      "execution_count": 3,
      "outputs": [
        {
          "output_type": "stream",
          "name": "stdout",
          "text": [
            "Напиши температуру по Цельсию54\n",
            "129.2\n"
          ]
        }
      ]
    },
    {
      "cell_type": "markdown",
      "source": [
        "Как вывести на экран несколько строк?\n",
        "\n",
        "- Можно вызвать `print` несколько раз\n",
        "\n",
        "```\n",
        "print('Вот первая строка')\n",
        "print('А это вторая строка')\n",
        "```\n",
        "- Можно использовать `\\n` - символ новой строки\n",
        "\n",
        "```\n",
        "print('Вот первая строка \\n А это вторая строка')\n",
        "```\n",
        "\n",
        "4. Округление и вывод с помощью новой строки"
      ],
      "metadata": {
        "id": "7ZiP0RJeEKXX"
      }
    },
    {
      "cell_type": "code",
      "source": [
        "# результат расчетов в задаче 3 сохранился в переменных\n",
        "# воспользуемся этим преимуществом!\n",
        "\n",
        "# округлите оба значения температур в градусах Цельсия и в градусах Фаргентейта\n",
        "# вы можете преобразовать результат к виду целого числа с помощью int(n); n - число для преобразования\n",
        "# либо воспользоваться функцией round(n, k), указав в аргументах функции количество знаков после запятой k\n",
        "# попробуйте оба варианта!\n",
        "### ваш код здесь ###\n",
        "celsius = float(input(\"Напиши температуру по Цельсию: \"))\n",
        "fahrenheit = (celsius * 9/5 + 32)\n",
        "celsius_round = round(celsius, 1)\n",
        "fahrenheit_round = round(fahrenheit, 1)\n",
        "print(fahrenheit_round, celsius_round)\n",
        "\n",
        "### ваш код здесь ###\n",
        "celsius_int = int(celsius)\n",
        "fahrenheit_int = int(fahrenheit)\n",
        "celsius_round = round(celsius, 1)\n",
        "fahrenheit_round = round(fahrenheit, 1)\n",
        "print(celsius_round, fahrenheit_round)\n",
        "\n",
        "# теперь выведите на экран оба числа\n",
        "# сделайте это в одну строчку кода:\n",
        "# используйте символ новой строки, подумайте, куда его добавить\n",
        "### ваш код здесь ###"
      ],
      "metadata": {
        "colab": {
          "base_uri": "https://localhost:8080/"
        },
        "id": "bUwEDGEFE2g2",
        "outputId": "c59a7add-e77b-45bb-a6f9-427475623a27"
      },
      "execution_count": 4,
      "outputs": [
        {
          "output_type": "stream",
          "name": "stdout",
          "text": [
            "Напиши температуру по Цельсию: 32\n",
            "89.6 32.0\n",
            "32.0 89.6\n"
          ]
        }
      ]
    },
    {
      "cell_type": "markdown",
      "source": [
        "В задании 4 нам может помочь свойство конкатенации строк.\n",
        "\n",
        "`print('Hello' + ' ' +'World')`\n",
        "\n",
        "Но сложение строки с числом невозможно в питоне. Что делать?\n",
        "\n",
        "5. Конвертирование типов данных"
      ],
      "metadata": {
        "id": "nqNeKzKIGi3J"
      }
    },
    {
      "cell_type": "code",
      "source": [
        "# преобразуйте округленные значения температур к виду строк, применив str(n),\n",
        "# где n - то, что вы хотите преобразовать к виду строки\n",
        "### ваш код здесь ###\n",
        "### ваш код здесь ###\n",
        "\n",
        "# выведите на экран результат:\n",
        "# используйте конкатенацию строк вместо запятой в функции print\n",
        "### ваш код здесь ###\n",
        "\n",
        "celsius = float(input(\"Напиши температуру по Цельсию: \"))\n",
        "fahrenheit = (celsius * 9/5 + 32)\n",
        "celsius_round = round(celsius, 1)\n",
        "fahrenheit_round = round(fahrenheit, 1)\n",
        "print(str(celsius_round) + \", \" + str(fahrenheit_round))"
      ],
      "metadata": {
        "colab": {
          "base_uri": "https://localhost:8080/"
        },
        "id": "us_bdGWcGxnN",
        "outputId": "5b139fb2-23d9-443a-84d0-72d0ed5219d5"
      },
      "execution_count": 7,
      "outputs": [
        {
          "output_type": "stream",
          "name": "stdout",
          "text": [
            "Напиши температуру по Цельсию: 32\n",
            "32.0, 89.6\n"
          ]
        }
      ]
    },
    {
      "cell_type": "markdown",
      "source": [
        "Чтобы преобразовать один тип данных в другой, мы вызываем функцию, обозначающую этот тип.\n",
        "\n",
        "Закрепим новый материал.\n",
        "\n",
        "6. Калькулятор"
      ],
      "metadata": {
        "id": "spQ5uN3astAm"
      }
    },
    {
      "cell_type": "code",
      "source": [
        "# запросите у пользователя 2 целых числа\n",
        "# выполните операции сложения, вычитания, умножения и возведения каждого из чисел во вторую степень\n",
        "# выведите результат на экран\n",
        "\n",
        "your_number1 = int(input(\"Напиши первое число \"))\n",
        "your_number2 = int(input(\"Напиши второе число \"))\n",
        "a=your_number1 - your_number2\n",
        "b=your_number1 + your_number2\n",
        "c=pow(your_number1,2)\n",
        "d=pow(your_number2,2)\n",
        "print(str(a) + \", \" + str(b) + \", \" + str(c) + \", \" + str(d))"
      ],
      "metadata": {
        "colab": {
          "base_uri": "https://localhost:8080/"
        },
        "id": "n7-Jm439sar_",
        "outputId": "9cf6df7b-db4a-4e43-dca1-c070b545199c"
      },
      "execution_count": 10,
      "outputs": [
        {
          "output_type": "stream",
          "name": "stdout",
          "text": [
            "Напиши первое число 12\n",
            "Напиши второе число 34\n",
            "-22, 46, 144, 1156\n"
          ]
        }
      ]
    },
    {
      "cell_type": "markdown",
      "source": [
        "7. Анкета"
      ],
      "metadata": {
        "id": "x73Q0mXOuY_A"
      }
    },
    {
      "cell_type": "code",
      "source": [
        "# вспомним множественное присваивание в python\n",
        "# a, b, c = 0, 1, 2\n",
        "# используйте множественное присваивание,\n",
        "# чтобы одной строчкой кода запросить у пользователя имя, возраст и профессию\n",
        "# выведите на экран полученную информацию\n",
        "\n",
        "name, age, profession = input(\"Напиши свое имя \"), input(\"Напиши свой возраст \"), input(\"Напиши свою провессию \")\n",
        "print(str(name) + \" \" + str(age) + \" \" + str(profession))\n"
      ],
      "metadata": {
        "colab": {
          "base_uri": "https://localhost:8080/"
        },
        "id": "-I2KyU5CuF_q",
        "outputId": "befb9078-56f7-4324-f60f-22949be99c16"
      },
      "execution_count": 12,
      "outputs": [
        {
          "output_type": "stream",
          "name": "stdout",
          "text": [
            "Напиши свое имя Оля\n",
            "Напиши свой возраст 22\n",
            "Напиши свою провессию лингвист\n",
            "Оля 22 лингвист\n"
          ]
        }
      ]
    },
    {
      "cell_type": "markdown",
      "source": [
        "8. Поменять местами переменные"
      ],
      "metadata": {
        "id": "yTqWtZfltMhg"
      }
    },
    {
      "cell_type": "code",
      "source": [
        "# множественное присваивание иногда очень полезно\n",
        "# запросите у пользователя две любые переменные\n",
        "# это может быть строка или число, на ваш выбор\n",
        "\n",
        "# поменяйте их местами одной строчкой кода:\n",
        "# запишите в первую переменную информацию из второй,\n",
        "# а во вторую переменную - информацию из первой, используя множественное присваивание\n",
        "\n",
        "# выведите на экран промежуточные и итоговые результаты\n",
        "\n",
        "left_hand, right_hand = int(input(\"Напиши сколько пальцев на левой руке \")), input(\"Напиши что у тебя в правой руке \")\n",
        "left_hand, right_hand = right_hand, left_hand\n",
        "print(str(left_hand) + \" \" + str(right_hand))"
      ],
      "metadata": {
        "colab": {
          "base_uri": "https://localhost:8080/"
        },
        "id": "NTHA_bPbv8uX",
        "outputId": "8b131bd7-22b7-4535-be58-d38ce58c4c3c"
      },
      "execution_count": 14,
      "outputs": [
        {
          "output_type": "stream",
          "name": "stdout",
          "text": [
            "Напиши сколько пальцев на левой руке5\n",
            "Напиши что у тебя в правой рукеяблоко\n",
            "яблоко 5\n"
          ]
        }
      ]
    },
    {
      "cell_type": "markdown",
      "source": [
        "9. Дописать функцию"
      ],
      "metadata": {
        "id": "75A8BHaKv6Wl"
      }
    },
    {
      "cell_type": "code",
      "source": [
        "# чаще мы используем множественное присваивание в фунциональном программировании\n",
        "# например, эта функция считает сумму и произведение двух чисел\n",
        "# функция принимает на вход (почти как input!) 2 числа\n",
        "# эти числа запишутся в переменные a и b\n",
        "def sum_and_product(a, b):\n",
        "    # напишите здесь код для расчета суммы чисел a и b\n",
        "    total_sum = a + b\n",
        "    # а сюда допишите код для подсчета их произведения\n",
        "    product = a * b\n",
        "    # функция возвращает результат подсчета - два новых числа\n",
        "    return total_sum, product\n",
        "\n",
        "# настало время множественного присваивания\n",
        "# мы вызывает функцию sum_and_product и передаем ей в качестве аргументов два числа - 5 и 3\n",
        "# мы помним, что функция возвращает 2 новых числа,\n",
        "# поэтому результат работы одной функции мы записываем в две переменные: result_sum и result_product\n",
        "result_sum, result_product = sum_and_product(5, 3)\n",
        "print(result_sum, result_product)\n",
        "\n",
        "# выведите на экран result_sum и result_product\n",
        "### ваш код здесь ###\n",
        "### ваш код здесь ###"
      ],
      "metadata": {
        "colab": {
          "base_uri": "https://localhost:8080/"
        },
        "id": "rBnK8PXDxVRr",
        "outputId": "a9e8b3ac-e516-4bf3-9622-acc76fc776b3"
      },
      "execution_count": 17,
      "outputs": [
        {
          "output_type": "stream",
          "name": "stdout",
          "text": [
            "8 15\n"
          ]
        }
      ]
    },
    {
      "cell_type": "markdown",
      "source": [
        "10. Строка и число"
      ],
      "metadata": {
        "id": "ZmO8j5ySxUO9"
      }
    },
    {
      "cell_type": "code",
      "source": [
        "# запросите у пользователя 2 числа, используйте str(input())\n",
        "# сложите два числа, не меняя тип данных, и выведите на экран результат\n",
        "# преобразуйте числа к виду нужного типа и снова сложите их, выведите результат\n",
        "\n",
        "# это задание нам уже знакомо:\n",
        "# попробуйте решить его питонично, используя как можно меньше строк кода\n",
        "# какие операции можно объединить?\n",
        "# в каких случаях нам не нужно создавать дополнительные переменные?\n",
        "\n",
        "### ваш код здесь ###\n",
        "\n",
        "a,b = str(input()), str(input())\n",
        "result_strings = a + b\n",
        "result_numbers = int(a) + int(b)\n",
        "print(result_strings, result_numbers)\n",
        "\n",
        "#или\n",
        "\n",
        "a,b = str(input()), str(input())\n",
        "print(a+b, int(a) + int(b))\n"
      ],
      "metadata": {
        "colab": {
          "base_uri": "https://localhost:8080/"
        },
        "id": "XOt6ZUeDzFAJ",
        "outputId": "3dbce0df-fbcf-47f7-c5fb-24ae34f1f19e"
      },
      "execution_count": null,
      "outputs": [
        {
          "output_type": "stream",
          "name": "stdout",
          "text": [
            "2\n",
            "3\n",
            "23 5\n"
          ]
        }
      ]
    }
  ]
}