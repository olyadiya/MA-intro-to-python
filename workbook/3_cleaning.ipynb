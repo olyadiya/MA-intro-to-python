{
  "nbformat": 4,
  "nbformat_minor": 0,
  "metadata": {
    "colab": {
      "provenance": [],
      "include_colab_link": true
    },
    "kernelspec": {
      "name": "python3",
      "display_name": "Python 3"
    },
    "language_info": {
      "name": "python"
    }
  },
  "cells": [
    {
      "cell_type": "markdown",
      "metadata": {
        "id": "view-in-github",
        "colab_type": "text"
      },
      "source": [
        "<a href=\"https://colab.research.google.com/github/olyadiya/MA-intro-to-python/blob/main/workbook/3_cleaning.ipynb\" target=\"_parent\"><img src=\"https://colab.research.google.com/assets/colab-badge.svg\" alt=\"Open In Colab\"/></a>"
      ]
    },
    {
      "cell_type": "markdown",
      "source": [
        "**Data Cleaning** (чистка данных) - этап предварительной обработки данных для анализа данных и машинного обучения.\n",
        "\n",
        "**Примеры Data Cleaning:**\n",
        "- удаление избыточных столбцов из табличных данных;\n",
        "- приведение текста к нижнему регистру;\n",
        "- чистка текста от HTML-артефактов\n",
        "\n",
        "Загрузим тренировочный датасет, почистим его и проанализируем результаты."
      ],
      "metadata": {
        "id": "Vl6M3rDU5XhG"
      }
    },
    {
      "cell_type": "markdown",
      "source": [
        "# Задание 1: Загрузка данных\n",
        "\n",
        "Загрузим тренировочный датасет и посмотрим на наши данные.\n",
        "\n",
        "Представим, что мы загрузили статью в формате HTML.\n",
        "\n",
        "Скачаем ее и выведем на экран первые 100 символов с помощью слайсинга (среза)."
      ],
      "metadata": {
        "id": "LK_zsNv26Tsk"
      }
    },
    {
      "cell_type": "code",
      "source": [
        "# загружаем тренировочные данные\n",
        "!wget https://raw.githubusercontent.com/vifirsanova/hse-python-course/main/data/data_cleaning.txt"
      ],
      "metadata": {
        "colab": {
          "base_uri": "https://localhost:8080/"
        },
        "id": "tbak8zIx8i6_",
        "outputId": "667c685e-b547-45fb-f9a5-0411bb12c528"
      },
      "execution_count": 1,
      "outputs": [
        {
          "output_type": "stream",
          "name": "stdout",
          "text": [
            "--2025-10-19 20:09:36--  https://raw.githubusercontent.com/vifirsanova/hse-python-course/main/data/data_cleaning.txt\n",
            "Resolving raw.githubusercontent.com (raw.githubusercontent.com)... 185.199.109.133, 185.199.110.133, 185.199.111.133, ...\n",
            "Connecting to raw.githubusercontent.com (raw.githubusercontent.com)|185.199.109.133|:443... connected.\n",
            "HTTP request sent, awaiting response... 200 OK\n",
            "Length: 2377 (2.3K) [text/plain]\n",
            "Saving to: ‘data_cleaning.txt’\n",
            "\n",
            "\rdata_cleaning.txt     0%[                    ]       0  --.-KB/s               \rdata_cleaning.txt   100%[===================>]   2.32K  --.-KB/s    in 0s      \n",
            "\n",
            "2025-10-19 20:09:36 (40.1 MB/s) - ‘data_cleaning.txt’ saved [2377/2377]\n",
            "\n"
          ]
        }
      ]
    },
    {
      "cell_type": "code",
      "source": [
        "# запишем данные в переменную data\n",
        "with open('data_cleaning.txt', 'r') as f:\n",
        "  data = f.read()"
      ],
      "metadata": {
        "id": "OJ68oc8E8r9P"
      },
      "execution_count": 5,
      "outputs": []
    },
    {
      "cell_type": "code",
      "source": [
        "# выведите на экран первые 100 символов с помощью слайсинга\n",
        "\n",
        "first_100_symbols = data[:100]\n",
        "print(first_100_symbols)"
      ],
      "metadata": {
        "colab": {
          "base_uri": "https://localhost:8080/"
        },
        "id": "EZ9GtP8s86V8",
        "outputId": "ec881595-ab6c-4e1c-d82c-389b74365249"
      },
      "execution_count": 4,
      "outputs": [
        {
          "output_type": "stream",
          "name": "stdout",
          "text": [
            "<!DOCTYPE html>\n",
            "<html>\n",
            "<head>\n",
            "    <title>Sample HTML Document</title>\n",
            "</head>\n",
            "<body>\n",
            "    <h1>Welcome\n"
          ]
        }
      ]
    },
    {
      "cell_type": "markdown",
      "source": [
        "# Задание 2: Удаление артефактов\n",
        "\n",
        "В данных много артефактов - HTML-тегов.\n",
        "\n",
        "Удалим HTML-артефакты с помощью регулярных выражений RegEx"
      ],
      "metadata": {
        "id": "XIGQ9xGQ6t1U"
      }
    },
    {
      "cell_type": "code",
      "source": [
        "# пропишем паттерн для поиска HTML-тегов вида <tag> ... </tag>\n",
        "import re   # загрузим библиотеку для обработки регулярных выражений\n",
        "\n",
        "tag_pattern = r'<[^>]+>'    # паттерн для поиска тегов"
      ],
      "metadata": {
        "id": "aQ0ka1oq9uVz"
      },
      "execution_count": null,
      "outputs": []
    },
    {
      "cell_type": "markdown",
      "source": [
        "Используйте функцию `re.sub` (substitution) для чистки данных\n",
        "\n",
        "`re.sub` ищет в строке `string` соответствия RegEx-паттерну `pattern` и меняет найденное на указанную строку `repl`\n",
        "\n",
        "Как используем функцию: `re.sub(pattern, repl, string)`\n",
        "\n",
        "- `pattern` - паттерн RegEx, соответствия которому будет искать функция\n",
        "- `repl` - на что будем менять найденные соответствия\n",
        "- `string` - где будем искать, наш датасет\n",
        "\n",
        "Запишите результат в переменную `clean_text` и выведите на экран с 720-го по 800-ый символ очищенного текста\n",
        "\n",
        "Используйте слайсинг"
      ],
      "metadata": {
        "id": "h8oleHAo_UaY"
      }
    },
    {
      "cell_type": "code",
      "source": [
        "# Подсказки:\n",
        "# используйте паттерн, записанный в переменную tag_pattern\n",
        "# замените результат на пустую строку \"\"\n",
        "cleaned_data = re.sub(tag_pattern, \"\", data)\n",
        "print(cleaned_data[720:800])"
      ],
      "metadata": {
        "colab": {
          "base_uri": "https://localhost:8080/"
        },
        "id": "DjqjGi8P-H6O",
        "outputId": "eeee5657-d31e-4aca-d1ec-8f1f9b52ae30"
      },
      "execution_count": null,
      "outputs": [
        {
          "output_type": "stream",
          "name": "stdout",
          "text": [
            " It's crucial to handle HTML entities such as &lt;div&gt;, &lt;p&gt;, &amp;, etc\n"
          ]
        }
      ]
    },
    {
      "cell_type": "markdown",
      "source": [
        "Мы удалили не все специальные символы HTML\n",
        "\n",
        "Создадим еще один паттерн и повторим процедуру"
      ],
      "metadata": {
        "id": "fZAWGBC7Ajr7"
      }
    },
    {
      "cell_type": "code",
      "source": [
        "symbols_pattern = r'&\\w+;'    # паттерн для поиска специальных символов"
      ],
      "metadata": {
        "id": "jIftruIgBuQj"
      },
      "execution_count": null,
      "outputs": []
    },
    {
      "cell_type": "markdown",
      "source": [
        "Используйте `re.sub` для удаления этих символов\n",
        "\n",
        "Теперь функция принимает на вход паттерн `symbols_pattern` и текст `clean_text`\n",
        "\n",
        "Перезапишите переменную `clean_text`\n",
        "\n",
        "Выведите на экран с 720-го по 800-ый символ, чтобы убедиться в том, что чистка прошла успешно"
      ],
      "metadata": {
        "id": "LJ19ehiFB5d6"
      }
    },
    {
      "cell_type": "code",
      "source": [
        "print(cleaned_data[720:800])\n",
        "print(cleaned_data[720:800])"
      ],
      "metadata": {
        "colab": {
          "base_uri": "https://localhost:8080/"
        },
        "id": "UsX39hWDCLR6",
        "outputId": "b531ff90-87aa-491f-bec3-82ad09d9f638"
      },
      "execution_count": null,
      "outputs": [
        {
          "output_type": "stream",
          "name": "stdout",
          "text": [
            " It's crucial to handle HTML entities such as div, p, , etc. HTML entities are s\n"
          ]
        }
      ]
    },
    {
      "cell_type": "markdown",
      "source": [
        "В нашем тексте остались двойные пробелы\n",
        "\n",
        "Уберем им с помощью очередного паттерна"
      ],
      "metadata": {
        "id": "mP70Rf3oCKNZ"
      }
    },
    {
      "cell_type": "code",
      "source": [
        "# выведите на экран первые 100 символов вашего текущего результата\n",
        "# на этот раз не используйте print\n",
        "cleaned_data[:100]"
      ],
      "metadata": {
        "colab": {
          "base_uri": "https://localhost:8080/",
          "height": 35
        },
        "id": "GMGJDpaEDHx5",
        "outputId": "bb5e2c86-def1-4495-f402-22beec03d204"
      },
      "execution_count": null,
      "outputs": [
        {
          "output_type": "execute_result",
          "data": {
            "text/plain": [
              "'\\n\\n\\n    Sample HTML Document\\n\\n\\n    Welcome to Data Cleaning\\n    This is a sample paragraph with HTML '"
            ],
            "application/vnd.google.colaboratory.intrinsic+json": {
              "type": "string"
            }
          },
          "metadata": {},
          "execution_count": 68
        }
      ]
    },
    {
      "cell_type": "markdown",
      "source": [
        "Создаем паттерн для поиска двойных пробелов\n",
        "\n",
        "Повторите процедуру, перезапишите результат в `clean_text` и выведите первые 100 символов\n",
        "\n",
        "Что мы запишем в переменную `repl`, чтобы не удалить абсолютно все пробелы?"
      ],
      "metadata": {
        "id": "GpgXBzMxDicX"
      }
    },
    {
      "cell_type": "code",
      "source": [
        "space_pattern = r'\\s+'\n",
        "\n",
        "### ваш код здесь: примените re.sub ###\n",
        "cleaned_data = re.sub(space_pattern, \" \", cleaned_data)\n",
        "### ваш код здесь: выведите первые 100 символов, не используя print ###\n",
        "cleaned_data[:100]"
      ],
      "metadata": {
        "colab": {
          "base_uri": "https://localhost:8080/",
          "height": 35
        },
        "id": "aQ-ZqbEcDcIE",
        "outputId": "2e609be3-e417-4b9b-cef4-507156b67367"
      },
      "execution_count": null,
      "outputs": [
        {
          "output_type": "execute_result",
          "data": {
            "text/plain": [
              "' Sample HTML Document Welcome to Data Cleaning This is a sample paragraph with HTML artifacts such a'"
            ],
            "application/vnd.google.colaboratory.intrinsic+json": {
              "type": "string"
            }
          },
          "metadata": {},
          "execution_count": 70
        }
      ]
    },
    {
      "cell_type": "markdown",
      "source": [
        "# Задание 3: Смена регистра\n",
        "\n",
        "Приведем все слова к нижнему регистру с помощью функции `lower`\n",
        "\n",
        "Запишем результат в переменную `text_lower` и выведем на экран последние 100 символов"
      ],
      "metadata": {
        "id": "Hwtj4l2x6bwS"
      }
    },
    {
      "cell_type": "code",
      "source": [
        "### ваш код здесь: примените lower к clean_text ###\n",
        "### ваш код здесь: выведите первые 100 символов с конца, используйте слайсинг и не забудьте про - ###\n",
        "clean_text = cleaned_data.lower()\n",
        "clean_text[-100:]"
      ],
      "metadata": {
        "colab": {
          "base_uri": "https://localhost:8080/"
        },
        "id": "NbmH8JL0EPeg",
        "outputId": "884199df-9871-41fd-ae3c-1f4caab40f9c"
      },
      "execution_count": null,
      "outputs": [
        {
          "output_type": "stream",
          "name": "stdout",
          "text": [
            "e learning models, making predictions, or generating insights to support decision-making processes. \n"
          ]
        }
      ]
    },
    {
      "cell_type": "markdown",
      "source": [
        "# Задание 4: Удаление стоп-слов\n",
        "\n",
        "Удалим частотные слова, которые создают шум для решения задач\n",
        "\n",
        "Загрузим список стоп-слов"
      ],
      "metadata": {
        "id": "vkxdtN1Q6mwU"
      }
    },
    {
      "cell_type": "code",
      "source": [
        "!wget https://raw.githubusercontent.com/vifirsanova/hse-python-course/main/data/stopwords.txt"
      ],
      "metadata": {
        "colab": {
          "base_uri": "https://localhost:8080/"
        },
        "id": "8ypsKpKBE6T-",
        "outputId": "0f64ce40-5e30-48a4-dcb7-9c73cac83c74"
      },
      "execution_count": 12,
      "outputs": [
        {
          "output_type": "stream",
          "name": "stdout",
          "text": [
            "--2025-10-19 20:52:21--  https://raw.githubusercontent.com/vifirsanova/hse-python-course/main/data/stopwords.txt\n",
            "Resolving raw.githubusercontent.com (raw.githubusercontent.com)... 185.199.108.133, 185.199.110.133, 185.199.111.133, ...\n",
            "Connecting to raw.githubusercontent.com (raw.githubusercontent.com)|185.199.108.133|:443... connected.\n",
            "HTTP request sent, awaiting response... 200 OK\n",
            "Length: 954 [text/plain]\n",
            "Saving to: ‘stopwords.txt’\n",
            "\n",
            "\rstopwords.txt         0%[                    ]       0  --.-KB/s               \rstopwords.txt       100%[===================>]     954  --.-KB/s    in 0s      \n",
            "\n",
            "2025-10-19 20:52:21 (44.7 MB/s) - ‘stopwords.txt’ saved [954/954]\n",
            "\n"
          ]
        }
      ]
    },
    {
      "cell_type": "code",
      "source": [
        "# запишем данные в переменную stopwords\n",
        "with open('stopwords.txt', 'r') as f:\n",
        "  stopwords = f.read().split()"
      ],
      "metadata": {
        "id": "_c1xfdkgFNcg"
      },
      "execution_count": 13,
      "outputs": []
    },
    {
      "cell_type": "markdown",
      "source": [
        "Выведите на экран первые 10 стоп-слов"
      ],
      "metadata": {
        "id": "nansznnrFVN-"
      }
    },
    {
      "cell_type": "code",
      "source": [
        "print(stopwords[:10])"
      ],
      "metadata": {
        "colab": {
          "base_uri": "https://localhost:8080/"
        },
        "id": "Pctau5NgFYJG",
        "outputId": "e25c7635-67cd-4b24-b27f-aab70f775440"
      },
      "execution_count": 15,
      "outputs": [
        {
          "output_type": "stream",
          "name": "stdout",
          "text": [
            "['a', 'about', 'above', 'after', 'again', 'against', 'all', 'am', 'an', 'and']\n"
          ]
        }
      ]
    },
    {
      "cell_type": "markdown",
      "source": [
        "С помощью `random` мы можем \"вытянуть\" из списка стоп-слов случайное слово"
      ],
      "metadata": {
        "id": "7C4R5y63Fqrl"
      }
    },
    {
      "cell_type": "code",
      "source": [
        "import random\n",
        "random.choice(stopwords)"
      ],
      "metadata": {
        "colab": {
          "base_uri": "https://localhost:8080/",
          "height": 35
        },
        "id": "8SX-lcCAFjNc",
        "outputId": "38899246-7668-4b0c-acb1-38299c2b3158"
      },
      "execution_count": 16,
      "outputs": [
        {
          "output_type": "execute_result",
          "data": {
            "text/plain": [
              "'further'"
            ],
            "application/vnd.google.colaboratory.intrinsic+json": {
              "type": "string"
            }
          },
          "metadata": {},
          "execution_count": 16
        }
      ]
    },
    {
      "cell_type": "markdown",
      "source": [
        "\"Вытяните\" еще одно случайное слово и запишите его в переменную `random_word`"
      ],
      "metadata": {
        "id": "tPDPQYYTFwsM"
      }
    },
    {
      "cell_type": "code",
      "source": [
        "random_word = random.choice(stopwords)\n",
        "print(f\"Случайное слово: {random_word}\")"
      ],
      "metadata": {
        "id": "oJkDb27LF75t",
        "colab": {
          "base_uri": "https://localhost:8080/"
        },
        "outputId": "543c574d-04e5-4fb4-c51d-172148c494d0"
      },
      "execution_count": 19,
      "outputs": [
        {
          "output_type": "stream",
          "name": "stdout",
          "text": [
            "Случайное слово: my\n"
          ]
        }
      ]
    },
    {
      "cell_type": "markdown",
      "source": [
        "Проверьте, есть ли это слово в `text_lower` с помощью `in`\n",
        "\n",
        "Выведите на экран это слово"
      ],
      "metadata": {
        "id": "erv_tjszGZlo"
      }
    },
    {
      "cell_type": "code",
      "source": [
        "### ваш код здесь: вывод на экран текста \"Результат проверки:\" и проверки с in ###\n",
        "if 'text_lower' not in locals(): #я не буду врать, я не поняла как это сделать через in и попросила чат гпт :(\n",
        "    if 'clean_text' in locals():\n",
        "        text_lower = clean_text.lower()\n",
        "    else:\n",
        "      text_lower = \"пример текста для проверки наличия различных слов в тексте\".lower()\n",
        "### ваш код здесь: вывод текста \"Случайное слово:\" и random_word ###\n",
        "word_exists = random_word in text_lower\n",
        "\n",
        "print(f\"Слово: '{random_word}'\")\n",
        "print(f\"Присутствует в text_lower: {word_exists}\")"
      ],
      "metadata": {
        "colab": {
          "base_uri": "https://localhost:8080/"
        },
        "id": "j2NJtaSOGBDT",
        "outputId": "b2958fe5-560c-47a6-d79a-229a1c04ec37"
      },
      "execution_count": 20,
      "outputs": [
        {
          "output_type": "stream",
          "name": "stdout",
          "text": [
            "Слово: 'my'\n",
            "Присутствует в text_lower: False\n"
          ]
        }
      ]
    },
    {
      "cell_type": "markdown",
      "source": [
        "Попробуйте сгенерировать еще несколько слов и проверить их наличие в `text_lower`\n",
        "\n",
        "Для этого запустите повторно две последние ячейки"
      ],
      "metadata": {
        "id": "VBJJHLvrHCCO"
      }
    },
    {
      "cell_type": "code",
      "source": [
        "#\"\"\"Вот так будет выглядеть текст после удаления стоп-слов _без_ токенизации Заменятся все аналогичные сочетания знаков Поэтому перед _удалением_ стоп-слов, проведем токенизацию\"\"\"\n",
        "import random\n",
        "random_word = random.choice(stopwords)\n",
        "print(f\"Случайное слово: {random_word}\")\n",
        "word_exists = random_word in text_lower\n",
        "print(f\"Слово '{random_word}' присутствует в text_lower: {word_exists}\")\n"
      ],
      "metadata": {
        "colab": {
          "base_uri": "https://localhost:8080/"
        },
        "id": "gY7oeXTXGW0D",
        "outputId": "61717541-3c79-4f27-9ecb-93cd10bf4fd3"
      },
      "execution_count": 21,
      "outputs": [
        {
          "output_type": "stream",
          "name": "stdout",
          "text": [
            "Случайное слово: ourselves\n",
            "Слово 'ourselves' присутствует в text_lower: False\n"
          ]
        }
      ]
    },
    {
      "cell_type": "markdown",
      "source": [
        "# Задание 5: Токенизация\n",
        "\n",
        "Токенизируем датасет для дальнейшей работы\n",
        "\n",
        "Создадим 2 набора токенов: с сегментацией по предложениям и с сегментацией по словам"
      ],
      "metadata": {
        "id": "Mepvb0Kw7Ncq"
      }
    },
    {
      "cell_type": "markdown",
      "source": [
        "Создайте переменную `sentences`\n",
        "\n",
        "С помощью `split` разделите текст на предложения (сегменты, разделенные знаком `.`)\n",
        "\n",
        "Выведите на экран первые 10 элементов `sentences`"
      ],
      "metadata": {
        "id": "Me63a7SNLa6C"
      }
    },
    {
      "cell_type": "code",
      "source": [
        "### ваш код здесь: split для сегментации по знаку `.` ###\n",
        "### вывод на экран первых 10 предложений ###\n",
        "sentences = data.split('.') #не понимаю почему, но когда подставляю переменную cleaned_data - выдает ошибку, что у меня нет такой переменной\n",
        "print(\"Первые 10 предложений:\")\n",
        "for sentence in sentences[0:10]:\n",
        "    print(sentence.strip())"
      ],
      "metadata": {
        "colab": {
          "base_uri": "https://localhost:8080/"
        },
        "id": "8G13fM_27M1t",
        "outputId": "a827e16a-823c-4e30-fe54-5af3ecfdb009"
      },
      "execution_count": 28,
      "outputs": [
        {
          "output_type": "stream",
          "name": "stdout",
          "text": [
            "Первые 10 предложений:\n",
            "<!DOCTYPE html>\n",
            "<html>\n",
            "<head>\n",
            "    <title>Sample HTML Document</title>\n",
            "</head>\n",
            "<body>\n",
            "    <h1>Welcome to Data Cleaning</h1>\n",
            "    <p>This is a sample paragraph with <b>HTML artifacts</b> such as <i>bold</i> and <u>italic</u> text\n",
            "Data cleaning is an essential process in preparing data for analysis\n",
            "It involves various techniques to clean, transform, and preprocess data\n",
            "</p>\n",
            "    <p>In data cleaning, it's important to remove <em>stop words</em> like \"the\", \"and\", \"of\", etc\n",
            "Stop words are common words that are often filtered out from text data because they do not carry significant meaning\n",
            "</p>\n",
            "    <p>Here's another paragraph\n",
            "Sometimes text is in <strong>UPPERCASE</strong> or <em>lowercase</em>\n",
            "It's important to standardize the text case to ensure consistency in the dataset\n",
            "This can be achieved by converting all text to lowercase or uppercase\n",
            "</p>\n",
            "    <p>It's crucial to handle <code>HTML entities</code> such as &lt;div&gt;, &lt;p&gt;, &amp;, etc\n"
          ]
        }
      ]
    },
    {
      "cell_type": "markdown",
      "source": [
        "Создайте переменную `tokens`\n",
        "\n",
        "С помощью `split` разделите текст `text_lower` на слова\n",
        "\n",
        "Выведите первые 10 элементов"
      ],
      "metadata": {
        "id": "6J_C8cq0L2rB"
      }
    },
    {
      "cell_type": "code",
      "source": [
        "### ваш код здесь: split для сегментации по пробелу ###\n",
        "tokens = text_lower.split()\n",
        "### ваш код здесь: вывод на экран первых 10 слов ###\n",
        "print(tokens[:10])"
      ],
      "metadata": {
        "colab": {
          "base_uri": "https://localhost:8080/"
        },
        "id": "Rj3dXh576a5A",
        "outputId": "5aced0ae-c2ce-476f-b848-991fc9c6dd71"
      },
      "execution_count": 29,
      "outputs": [
        {
          "output_type": "stream",
          "name": "stdout",
          "text": [
            "['пример', 'текста', 'для', 'проверки', 'наличия', 'различных', 'слов', 'в', 'тексте']\n"
          ]
        }
      ]
    },
    {
      "cell_type": "markdown",
      "source": [
        " Удалим стоп-слова"
      ],
      "metadata": {
        "id": "5Q7FfNK9MJ_K"
      }
    },
    {
      "cell_type": "code",
      "source": [
        "clean_tokens = []\n",
        "\n",
        "for token in tokens:  # итерация по списку токенов tokens\n",
        "  if token not in stopwords:  # проверяем отсутствие токена в списке стоп-слов\n",
        "    clean_tokens.append(token)  # добавляем токен в новый очищенный список токенов, если его нет в стоп-словах\n",
        "\n",
        "### ваш код здесь: вывод на экран первых 10 элементов clean_tokens ###\n",
        "print(clean_tokens[:10])"
      ],
      "metadata": {
        "colab": {
          "base_uri": "https://localhost:8080/"
        },
        "id": "QMy-_DNJ0HF3",
        "outputId": "8f4ae94e-cc41-4b2b-fc6b-a76ffd878c13"
      },
      "execution_count": 31,
      "outputs": [
        {
          "output_type": "stream",
          "name": "stdout",
          "text": [
            "['пример', 'текста', 'для', 'проверки', 'наличия', 'различных', 'слов', 'в', 'тексте']\n"
          ]
        }
      ]
    },
    {
      "cell_type": "markdown",
      "source": [
        "# И еще одно задание...\n",
        "\n",
        "В ячейке ниже вы сможете загрузить еще один текст\n",
        "\n",
        "Используйте свой код и код из задания, чтобы\n",
        "\n",
        "1. удалить артефакты (html-теги, специальные символы и двойные пробелы)\n",
        "\n",
        "2. привести текст к нижнему регистру\n",
        "\n",
        "3. токенизировать текст по предложениям\n",
        "\n",
        "4. токенизировать текст по словам\n",
        "\n",
        "5. удалить стоп-слова"
      ],
      "metadata": {
        "id": "0EYfMpHZNUkA"
      }
    },
    {
      "cell_type": "code",
      "source": [
        "!wget https://raw.githubusercontent.com/vifirsanova/hse-python-course/main/extracurricular/artefacts.txt"
      ],
      "metadata": {
        "colab": {
          "base_uri": "https://localhost:8080/"
        },
        "id": "qE6b-OKsNqK_",
        "outputId": "a5c3cf69-551d-4712-d89d-3bf678f8fd20"
      },
      "execution_count": 33,
      "outputs": [
        {
          "output_type": "stream",
          "name": "stdout",
          "text": [
            "--2025-10-19 21:08:10--  https://raw.githubusercontent.com/vifirsanova/hse-python-course/main/extracurricular/artefacts.txt\n",
            "Resolving raw.githubusercontent.com (raw.githubusercontent.com)... 185.199.108.133, 185.199.109.133, 185.199.110.133, ...\n",
            "Connecting to raw.githubusercontent.com (raw.githubusercontent.com)|185.199.108.133|:443... connected.\n",
            "HTTP request sent, awaiting response... 200 OK\n",
            "Length: 845 [text/plain]\n",
            "Saving to: ‘artefacts.txt’\n",
            "\n",
            "\rartefacts.txt         0%[                    ]       0  --.-KB/s               \rartefacts.txt       100%[===================>]     845  --.-KB/s    in 0s      \n",
            "\n",
            "2025-10-19 21:08:10 (40.8 MB/s) - ‘artefacts.txt’ saved [845/845]\n",
            "\n"
          ]
        }
      ]
    },
    {
      "cell_type": "code",
      "source": [
        "# запишем данные в переменную artefacts\n",
        "with open('artefacts.txt', 'r') as f:\n",
        "  artefacts = f.read()"
      ],
      "metadata": {
        "id": "CT7eVLpHOMTQ"
      },
      "execution_count": 34,
      "outputs": []
    },
    {
      "cell_type": "code",
      "source": [
        "### ваш код в ячейках ниже ###\n",
        "import re\n",
        "tag_pattern = r'<[^>]+>'\n",
        "cleaned_artefacts = re.sub(tag_pattern, \"\", artefacts)\n",
        "symbols_pattern = r'&\\w+;'\n",
        "cleaned_artefacts = re.sub(symbols_pattern, \"\", cleaned_artefacts)\n",
        "space_pattern = r'\\s+'\n",
        "cleaned_artefacts = re.sub(space_pattern, \" \", cleaned_artefacts)\n",
        "\n",
        "print(\"Текст после удаления артефактов (первые 200 символов):\")\n",
        "print(cleaned_artefacts[:200])\n",
        "print(\"\\n\" + \"=\"*50 + \"\\n\")"
      ],
      "metadata": {
        "id": "9g-geUOsORlM",
        "colab": {
          "base_uri": "https://localhost:8080/"
        },
        "outputId": "7a80893c-de1a-4c17-9a44-f97a5f020f1b"
      },
      "execution_count": 35,
      "outputs": [
        {
          "output_type": "stream",
          "name": "stdout",
          "text": [
            "Текст после удаления артефактов (первые 200 символов):\n",
            " Sample Web Page Welcome to Our Website This is some sample text on our website. You can contact us at info@example.com. Latest News Breaking News: Important Announcement Lorem ipsum dolor sit amet, c\n",
            "\n",
            "==================================================\n",
            "\n"
          ]
        }
      ]
    },
    {
      "cell_type": "code",
      "source": [
        "artefacts_lower = cleaned_artefacts.lower()\n",
        "\n",
        "print(\"Текст в нижнем регистре (первые 200 символов):\")\n",
        "print(artefacts_lower[:200])\n",
        "print(\"\\n\" + \"=\"*50 + \"\\n\")"
      ],
      "metadata": {
        "colab": {
          "base_uri": "https://localhost:8080/"
        },
        "id": "FXdH-q2MTUAe",
        "outputId": "94c5d169-5893-4082-9c5d-896c54cb21a9"
      },
      "execution_count": 36,
      "outputs": [
        {
          "output_type": "stream",
          "name": "stdout",
          "text": [
            "Текст в нижнем регистре (первые 200 символов):\n",
            " sample web page welcome to our website this is some sample text on our website. you can contact us at info@example.com. latest news breaking news: important announcement lorem ipsum dolor sit amet, c\n",
            "\n",
            "==================================================\n",
            "\n"
          ]
        }
      ]
    },
    {
      "cell_type": "code",
      "source": [
        "sentences = artefacts_lower.split('.')\n",
        "\n",
        "print(\"Первые 5 предложений:\")\n",
        "for i, sentence in enumerate(sentences[:5]):\n",
        "    print(f\"{i+1}. {sentence.strip()}\")\n",
        "print(\"\\n\" + \"=\"*50 + \"\\n\")"
      ],
      "metadata": {
        "colab": {
          "base_uri": "https://localhost:8080/"
        },
        "id": "StSd6a-STaG8",
        "outputId": "d4e54f44-801f-4bee-c56d-f4116a1d3a1b"
      },
      "execution_count": 37,
      "outputs": [
        {
          "output_type": "stream",
          "name": "stdout",
          "text": [
            "Первые 5 предложений:\n",
            "1. sample web page welcome to our website this is some sample text on our website\n",
            "2. you can contact us at info@example\n",
            "3. com\n",
            "4. latest news breaking news: important announcement lorem ipsum dolor sit amet, consectetur adipiscing elit\n",
            "5. vivamus lacinia, arcu in fermentum tincidunt\n",
            "\n",
            "==================================================\n",
            "\n"
          ]
        }
      ]
    },
    {
      "cell_type": "code",
      "source": [
        "tokens = artefacts_lower.split()\n",
        "\n",
        "print(\"Первые 20 токенов (слов):\")\n",
        "print(tokens[:20])\n",
        "print(f\"\\nВсего токенов: {len(tokens)}\")\n",
        "print(\"\\n\" + \"=\"*50 + \"\\n\")"
      ],
      "metadata": {
        "colab": {
          "base_uri": "https://localhost:8080/"
        },
        "id": "m-jbt9_gTc2s",
        "outputId": "e9e44555-2279-488f-aafe-e9ffe53e0a11"
      },
      "execution_count": 38,
      "outputs": [
        {
          "output_type": "stream",
          "name": "stdout",
          "text": [
            "Первые 20 токенов (слов):\n",
            "['sample', 'web', 'page', 'welcome', 'to', 'our', 'website', 'this', 'is', 'some', 'sample', 'text', 'on', 'our', 'website.', 'you', 'can', 'contact', 'us', 'at']\n",
            "\n",
            "Всего токенов: 63\n",
            "\n",
            "==================================================\n",
            "\n"
          ]
        }
      ]
    },
    {
      "cell_type": "code",
      "source": [
        "clean_tokens = []\n",
        "\n",
        "for token in tokens:\n",
        "    if token not in stopwords:\n",
        "        clean_tokens.append(token)\n",
        "\n",
        "print(\"Токены после удаления стоп-слов (первые 20):\")\n",
        "print(clean_tokens[:20])\n",
        "print(f\"\\nВсего токенов до очистки: {len(tokens)}\")\n",
        "print(f\"Всего токенов после очистки: {len(clean_tokens)}\")\n",
        "print(f\"Удалено стоп-слов: {len(tokens) - len(clean_tokens)}\")"
      ],
      "metadata": {
        "colab": {
          "base_uri": "https://localhost:8080/"
        },
        "id": "jtSAwjBoTfk6",
        "outputId": "5f1b8612-a5a3-49d1-da24-9ce0215fa356"
      },
      "execution_count": 39,
      "outputs": [
        {
          "output_type": "stream",
          "name": "stdout",
          "text": [
            "Токены после удаления стоп-слов (первые 20):\n",
            "['sample', 'web', 'page', 'welcome', 'website', 'sample', 'text', 'website.', 'can', 'contact', 'us', 'info@example.com.', 'latest', 'news', 'breaking', 'news:', 'important', 'announcement', 'lorem', 'ipsum']\n",
            "\n",
            "Всего токенов до очистки: 63\n",
            "Всего токенов после очистки: 46\n",
            "Удалено стоп-слов: 17\n"
          ]
        }
      ]
    }
  ]
}