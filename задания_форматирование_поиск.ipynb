{
  "nbformat": 4,
  "nbformat_minor": 0,
  "metadata": {
    "colab": {
      "provenance": [],
      "authorship_tag": "ABX9TyM6GIXzQSgDCnFz0nGQtA9B",
      "include_colab_link": true
    },
    "kernelspec": {
      "name": "python3",
      "display_name": "Python 3"
    },
    "language_info": {
      "name": "python"
    }
  },
  "cells": [
    {
      "cell_type": "markdown",
      "metadata": {
        "id": "view-in-github",
        "colab_type": "text"
      },
      "source": [
        "<a href=\"https://colab.research.google.com/github/olyadiya/MA-intro-to-python/blob/main/%D0%B7%D0%B0%D0%B4%D0%B0%D0%BD%D0%B8%D1%8F_%D1%84%D0%BE%D1%80%D0%BC%D0%B0%D1%82%D0%B8%D1%80%D0%BE%D0%B2%D0%B0%D0%BD%D0%B8%D0%B5_%D0%BF%D0%BE%D0%B8%D1%81%D0%BA.ipynb\" target=\"_parent\"><img src=\"https://colab.research.google.com/assets/colab-badge.svg\" alt=\"Open In Colab\"/></a>"
      ]
    },
    {
      "cell_type": "code",
      "execution_count": null,
      "metadata": {
        "colab": {
          "base_uri": "https://localhost:8080/"
        },
        "id": "AOXSjQvZOWiU",
        "outputId": "4c74d909-2d86-4a3d-bee8-eeae3ba869a2"
      },
      "outputs": [
        {
          "output_type": "stream",
          "name": "stdout",
          "text": [
            "Иванов И. И.\n"
          ]
        }
      ],
      "source": [
        "#задача 1\n",
        "full_name = \"иванов иван иванович\"\n",
        "last_name, first_name, patronym = full_name.split()\n",
        "print(f'{last_name.title()} {first_name[0].upper()}. {patronym[0].upper()}.')"
      ]
    },
    {
      "cell_type": "code",
      "source": [
        "#задача 2\n",
        "password = \"Password123\"\n",
        "length_ok = len(password) >= 8\n",
        "has_digits = any(char.isdigit() for char in password)  # упрощенная проверка\n",
        "has_upper = password != password.lower()\n",
        "print(f\"Длина OK: {length_ok}\")\n",
        "print(f\"Есть цифры: {has_digits}\")\n",
        "print(f\"Есть заглавные: {has_upper}\")"
      ],
      "metadata": {
        "colab": {
          "base_uri": "https://localhost:8080/"
        },
        "id": "z2cOuU8JSuoX",
        "outputId": "f1c8cd21-3039-4457-b589-e013f32f4da0"
      },
      "execution_count": null,
      "outputs": [
        {
          "output_type": "stream",
          "name": "stdout",
          "text": [
            "Длина OK: True\n",
            "Есть цифры: True\n",
            "Есть заглавные: True\n"
          ]
        }
      ]
    },
    {
      "cell_type": "code",
      "source": [
        "#задача 3\n",
        "path = \"/home/user/documents/report.pdf\"\n",
        "file = path.split('/')[-1]\n",
        "file_without_ext = file.split('.')[0]\n",
        "print(file_without_ext)\n"
      ],
      "metadata": {
        "colab": {
          "base_uri": "https://localhost:8080/"
        },
        "id": "6H9lZWL81AFc",
        "outputId": "c43afe7a-d19d-4adb-dffd-3ab956508db6"
      },
      "execution_count": null,
      "outputs": [
        {
          "output_type": "stream",
          "name": "stdout",
          "text": [
            "report\n"
          ]
        }
      ]
    },
    {
      "cell_type": "code",
      "source": [
        "#задача 4\n",
        "import re\n",
        "text = \"Звоните по номеру +7-123-456-78-90 или +7-987-654-32-10\"\n",
        "phone_num = re.findall(r'\\+\\d-\\d{3}-\\d{3}-\\d{2}-\\d{2}', text)\n",
        "print(phone_num)"
      ],
      "metadata": {
        "colab": {
          "base_uri": "https://localhost:8080/"
        },
        "id": "SnqfJoX03hgm",
        "outputId": "abcb3552-1ba7-4aca-a333-acafe62e4b2b"
      },
      "execution_count": null,
      "outputs": [
        {
          "output_type": "stream",
          "name": "stdout",
          "text": [
            "['+7-123-456-78-90', '+7-987-654-32-10']\n"
          ]
        }
      ]
    },
    {
      "cell_type": "code",
      "source": [
        "#задача 5\n",
        "text = \"   ЭТОТ ТЕКСТ ПИСАЛИ КАПСОМ    \"\n",
        "lower_text = text.lower()\n",
        "print(lower_text[0].upper())"
      ],
      "metadata": {
        "colab": {
          "base_uri": "https://localhost:8080/"
        },
        "id": "9E9ef_YKA5Jv",
        "outputId": "2c38b2f9-fa92-472c-81c9-ace2336c9a7f"
      },
      "execution_count": 18,
      "outputs": [
        {
          "output_type": "stream",
          "name": "stdout",
          "text": [
            " \n"
          ]
        }
      ]
    },
    {
      "cell_type": "code",
      "source": [
        "#задача 6\n",
        "sentence = \"Быстрый рыжий лис прыгает через ленивую собаку\"\n",
        "units = sentence.split(' ')\n",
        "print(len(units))"
      ],
      "metadata": {
        "colab": {
          "base_uri": "https://localhost:8080/"
        },
        "id": "qcauor4VCDsV",
        "outputId": "8e93d74a-320d-4d8e-b46a-a4ed7940e20a"
      },
      "execution_count": 20,
      "outputs": [
        {
          "output_type": "stream",
          "name": "stdout",
          "text": [
            "7\n"
          ]
        }
      ]
    },
    {
      "cell_type": "code",
      "source": [
        "#задача 7\n",
        "text = \"Встречаемся 2023-12-31 в 20:00\"\n",
        "print(text.replace(\"-\", \".\"))"
      ],
      "metadata": {
        "colab": {
          "base_uri": "https://localhost:8080/"
        },
        "id": "JAJIlq1FC7xD",
        "outputId": "70ea4300-80b2-43b5-b2aa-ce056a7f8e81"
      },
      "execution_count": 21,
      "outputs": [
        {
          "output_type": "stream",
          "name": "stdout",
          "text": [
            "Встречаемся 2023.12.31 в 20:00\n"
          ]
        }
      ]
    },
    {
      "cell_type": "code",
      "source": [
        "#задача 8\n",
        "filename = \"my_document.backup.pdf\"\n",
        "print(filename.endswith(\"pdf\"))"
      ],
      "metadata": {
        "colab": {
          "base_uri": "https://localhost:8080/"
        },
        "id": "mkR2m6eaDWSf",
        "outputId": "1c129659-493b-4610-f830-cf0a08298b8b"
      },
      "execution_count": 22,
      "outputs": [
        {
          "output_type": "stream",
          "name": "stdout",
          "text": [
            "True\n"
          ]
        }
      ]
    },
    {
      "cell_type": "code",
      "source": [
        "#задача 9\n",
        "url = \"https://example.com/category/product.html\"\n",
        "dom = url.split('/')[2]\n",
        "print(dom)"
      ],
      "metadata": {
        "colab": {
          "base_uri": "https://localhost:8080/"
        },
        "id": "yyYKZg9tDgeh",
        "outputId": "1a87807b-7aa4-4dfd-d4c0-cece57c47f66"
      },
      "execution_count": 25,
      "outputs": [
        {
          "output_type": "stream",
          "name": "stdout",
          "text": [
            "example.com\n"
          ]
        }
      ]
    },
    {
      "cell_type": "code",
      "source": [
        "#задача 10\n",
        "full_name = \"Maria Ivanova\"\n",
        "print(f\"{full_name[0].lower()}_{full_name.split()[1].lower()}\")"
      ],
      "metadata": {
        "colab": {
          "base_uri": "https://localhost:8080/"
        },
        "id": "fydkYP_UEQ3q",
        "outputId": "d5a86636-465e-4f22-b10b-0d3e0824fee3"
      },
      "execution_count": 27,
      "outputs": [
        {
          "output_type": "stream",
          "name": "stdout",
          "text": [
            "m_ivanova\n"
          ]
        }
      ]
    }
  ]
}